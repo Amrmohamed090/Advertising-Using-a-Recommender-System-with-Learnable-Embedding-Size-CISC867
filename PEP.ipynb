{
 "cells": [
  {
   "cell_type": "code",
   "execution_count": 1,
   "id": "6187ff02-a466-4e63-8471-b2e10be58c1d",
   "metadata": {},
   "outputs": [],
   "source": [
    "import torch\n",
    "import torch.nn as nn\n",
    "import torch.nn.functional as F"
   ]
  },
  {
   "cell_type": "code",
   "execution_count": 2,
   "id": "7ead3c49-2619-41d1-976f-d2c9a02529c4",
   "metadata": {},
   "outputs": [
    {
     "data": {
      "text/plain": [
       "True"
      ]
     },
     "execution_count": 2,
     "metadata": {},
     "output_type": "execute_result"
    }
   ],
   "source": [
    "torch.cuda.is_available()"
   ]
  },
  {
   "cell_type": "code",
   "execution_count": null,
   "id": "59333f4f-bbd6-42fb-84dc-1dadeff28b33",
   "metadata": {},
   "outputs": [],
   "source": [
    "class PEP(nn.Module):\n",
    "    def __init__(self, opt):\n",
    "        super(PEP, self).__init__()\n",
    "        self.threshold_type = opt['threshold_type']\n",
    "        self.latent_dim = opt['latent_dim']\n",
    "        self.feature_num = sum(opt['field_dims'])\n",
    "        init = opt['threshold_init']\n",
    "        self.g = torch.sigmoid\n",
    "        self.s = self.init_threshold(init)\n",
    "        \n",
    "        # initialize the embedding matrix V\n",
    "        \n",
    "        self.v = nn.Parameter(torch.rand(self.rand(self.feature_num, self.latent_dim)))\n",
    "        nn.init.xavier_uniform_(self.v)\n",
    "        self.sparse_v = self.v.data\n",
    "        \n",
    "    def init_threshold(self, init):\n",
    "        if self.threshold_type == 'dimention':\n",
    "            s = nn.Parameter(init * torch.ones([self.latent_dim]))\n",
    "        elif self.threshold_type == 'feature':\n",
    "            s = nn.Parameter(init * torch.ones([self.feature_num, 1]))\n",
    "        elif self.threshold_type == 'feature_dimension':\n",
    "            s = nn.Parameter(init * torch.ones([self.feature_num, self.latent_dim]))\n",
    "        else:\n",
    "            s = nn.Parameter(init * torch.ones(1)) # set Global by default\n",
    "\n",
    "        return s\n",
    "\n",
    "    def soft_Threshold(self, x):\n",
    "        return torch.sign(v) * torch.relu(torch.abs(v) - self.g(s))\n",
    "\n",
    "    def forward(self, x):\n",
    "        self.sparse_v = self.soft_threshold(self.v, self.s)\n",
    "        xv = F.embedding(x, self.sparse_v)\n",
    "        return xv\n",
    "        \n",
    "\n"
   ]
  }
 ],
 "metadata": {
  "kernelspec": {
   "display_name": "Python 3 (ipykernel)",
   "language": "python",
   "name": "python3"
  },
  "language_info": {
   "codemirror_mode": {
    "name": "ipython",
    "version": 3
   },
   "file_extension": ".py",
   "mimetype": "text/x-python",
   "name": "python",
   "nbconvert_exporter": "python",
   "pygments_lexer": "ipython3",
   "version": "3.12.3"
  }
 },
 "nbformat": 4,
 "nbformat_minor": 5
}
